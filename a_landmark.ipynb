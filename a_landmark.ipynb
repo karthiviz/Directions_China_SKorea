{
  "nbformat": 4,
  "nbformat_minor": 0,
  "metadata": {
    "colab": {
      "name": "a*landmark.ipynb",
      "provenance": [],
      "collapsed_sections": [],
      "machine_shape": "hm",
      "background_execution": "on",
      "mount_file_id": "1Tcwr-kR6WpZT0bkh5N7kxEwjYHYvLtJC",
      "authorship_tag": "ABX9TyM+7Rvc5i/LobUNBVe/dM2S",
      "include_colab_link": true
    },
    "kernelspec": {
      "name": "python3",
      "display_name": "Python 3"
    },
    "language_info": {
      "name": "python"
    }
  },
  "cells": [
    {
      "cell_type": "markdown",
      "metadata": {
        "id": "view-in-github",
        "colab_type": "text"
      },
      "source": [
        "<a href=\"https://colab.research.google.com/github/karthiviz/Directions_China_SKorea_Japan/blob/main/a_landmark.ipynb\" target=\"_parent\"><img src=\"https://colab.research.google.com/assets/colab-badge.svg\" alt=\"Open In Colab\"/></a>"
      ]
    },
    {
      "cell_type": "code",
      "source": [
        "#!pip install osmnx"
      ],
      "metadata": {
        "id": "g5eBIOkjvoEq"
      },
      "execution_count": null,
      "outputs": []
    },
    {
      "cell_type": "code",
      "execution_count": null,
      "metadata": {
        "id": "mkx1PvPavhna"
      },
      "outputs": [],
      "source": [
        "import osmnx as ox\n",
        "import networkx as nx\n",
        "import pandas as pd\n",
        "import json\n",
        "ox.config(log_console=True, use_cache=True)"
      ]
    },
    {
      "cell_type": "code",
      "source": [
        "G = ox.load_graphml('/content/drive/MyDrive/osmfiles/japan_highways_all.graphml')"
      ],
      "metadata": {
        "id": "lPaxfIcbvr-e"
      },
      "execution_count": null,
      "outputs": []
    },
    {
      "cell_type": "code",
      "source": [
        "sources = [(31.579391, 131.391074),(31.369258, 131.015591),(31.092183, 130.698381),(31.388186, 130.773420),(31.593237, 130.607993),\\\n",
        "           (31.256324, 130.324074),(31.546323, 130.332275),(32.184684, 130.109811),(32.506762, 130.650372),(32.550375, 130.147998),(32.313715, 130.091177),\\\n",
        "           (32.664278, 130.133726),(33.085909, 129.686281),(33.641876, 130.210731),(34.479539, 131.469653),(35.508782, 135.238905),(36.377883, 136.396386),\\\n",
        "           (37.783029, 138.851452),(39.299866, 139.966064),(40.750767, 140.088672),(41.789543, 140.868901),(42.477461, 139.853813),(43.753497, 141.377402),\\\n",
        "           (45.303879, 141.641275),(44.545246, 142.968635),(42.110494, 142.980125),(40.325975, 141.740682),(39.323374, 141.874860),(38.520865, 141.439525),\\\n",
        "           (37.930211, 140.907152),(36.361120, 140.596834),(35.046238, 140.000633),(34.651704, 138.914113)]\n",
        "      \n",
        "landmarks = [ox.get_nearest_node(G, source) for source in sources]"
      ],
      "metadata": {
        "id": "A9BV8jbv5qei"
      },
      "execution_count": null,
      "outputs": []
    },
    {
      "cell_type": "code",
      "source": [
        "landmarks"
      ],
      "metadata": {
        "colab": {
          "base_uri": "https://localhost:8080/"
        },
        "id": "pGByinTIyxAt",
        "outputId": "fdc60d29-b866-4c2c-f05e-9e1a59ff8d9d"
      },
      "execution_count": null,
      "outputs": [
        {
          "output_type": "execute_result",
          "data": {
            "text/plain": [
              "[1754638050,\n",
              " 1383040092,\n",
              " 5888824802,\n",
              " 1382449824,\n",
              " 873840672,\n",
              " 664513678,\n",
              " 1383704453,\n",
              " 5628326754,\n",
              " 5455565396,\n",
              " 1343950782,\n",
              " 5628326754,\n",
              " 1343950782,\n",
              " 1484208305,\n",
              " 811736745,\n",
              " 1291495606,\n",
              " 528652299,\n",
              " 2035961519,\n",
              " 2352977367,\n",
              " 2127653571,\n",
              " 1283568809,\n",
              " 798345644,\n",
              " 798345644,\n",
              " 798345644,\n",
              " 798345644,\n",
              " 7140733157,\n",
              " 7140733157,\n",
              " 8540554031,\n",
              " 1917105549,\n",
              " 8682009730,\n",
              " 264402959,\n",
              " 810079095,\n",
              " 473498672,\n",
              " 1497954042]"
            ]
          },
          "metadata": {},
          "execution_count": 4
        }
      ]
    },
    {
      "cell_type": "code",
      "source": [
        "landmarks_from = [{int(landmark) : nx.single_source_dijkstra_path_length(G, landmark, weight='travel_time')} for landmark in landmarks]"
      ],
      "metadata": {
        "id": "SNCavoAN7S39"
      },
      "execution_count": null,
      "outputs": []
    },
    {
      "cell_type": "code",
      "source": [
        "landmarks_from"
      ],
      "metadata": {
        "id": "AjFQX6GoAwv_"
      },
      "execution_count": null,
      "outputs": []
    },
    {
      "cell_type": "code",
      "source": [
        "with open(\"japan_landmarks_from.json\", \"w\") as outfile:\n",
        "    json.dump(landmarks_from, outfile, indent=2)"
      ],
      "metadata": {
        "id": "DfCNbjrXJYSB"
      },
      "execution_count": null,
      "outputs": []
    }
  ]
}